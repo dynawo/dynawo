{
 "cells": [
  {
   "cell_type": "markdown",
   "id": "d7107b3c-3fdb-464d-b561-ee05ac283de0",
   "metadata": {},
   "source": [
    "## Indicate Dynawo and Modelica package.mo"
   ]
  },
  {
   "cell_type": "code",
   "execution_count": 1,
   "id": "2dd1dcfd-65f3-46a5-ab46-5ea6f2e530b1",
   "metadata": {},
   "outputs": [
    {
     "data": {
      "text/plain": [
       "\"/home/guironnetadr/Projects/Install/OpenModelica/lib/omlibrary/Modelica/package.mo\""
      ]
     },
     "execution_count": 1,
     "metadata": {},
     "output_type": "execute_result"
    }
   ],
   "source": [
    "#=  The env variable DYNAWO_PATH must has be set beforehands to the root of the dynawo code.\n",
    "    In case you are only working with the library distribution, the second part of the expression must be slightly modified.\n",
    "    Anyway the package_file should be pointing to the package.mo file of the Dynawo library you want to use\n",
    "=#\n",
    "\n",
    "Dynawo_package_file = string(ENV[\"DYNAWO_PATH\"], \"/dynawo/sources/Models/Modelica/Dynawo/package.mo\")\n",
    "Modelica_package_file = string(ENV[\"MODELICA_PATH\"], \"package.mo\")"
   ]
  },
  {
   "cell_type": "markdown",
   "id": "95d13589-1844-4fe7-9201-d8920f504689",
   "metadata": {},
   "source": [
    "## Import packages and data"
   ]
  },
  {
   "cell_type": "code",
   "execution_count": 2,
   "id": "a569808f-63c2-4c48-8d2f-8d817df799b9",
   "metadata": {},
   "outputs": [],
   "source": [
    "using OMJulia\n",
    "using Plots, DataFrames, CSV, LinearAlgebra"
   ]
  },
  {
   "cell_type": "code",
   "execution_count": 3,
   "id": "835f7b1e-52a5-4a27-9c1f-dcb82475c59b",
   "metadata": {},
   "outputs": [
    {
     "name": "stderr",
     "output_type": "stream",
     "text": [
      "\u001b[36m\u001b[1m[ \u001b[22m\u001b[39m\u001b[36m\u001b[1mInfo: \u001b[22m\u001b[39mPath to zmq file=\"/tmp/openmodelica.guironnetadr.port.julia.kAcdOOLJHg\"\n"
     ]
    }
   ],
   "source": [
    "Kundur = OMJulia.OMCSession()\n",
    "ModelicaSystem(Kundur,Dynawo_package_file,\"Dynawo.Examples.SMIB.Kundur.KundurStepEfd\",[Modelica_package_file])\n"
   ]
  },
  {
   "cell_type": "markdown",
   "id": "471f8561-86bf-4166-b019-a1d1376657e7",
   "metadata": {},
   "source": [
    "## Run initial simulation"
   ]
  },
  {
   "cell_type": "code",
   "execution_count": 4,
   "id": "82bf5182-85cd-47dd-a9c8-f07d6ae976fc",
   "metadata": {},
   "outputs": [
    {
     "name": "stdout",
     "output_type": "stream",
     "text": [
      "LOG_STDOUT        | info    | Linearization will be performed at point of time: 5.000000\n",
      "LOG_SUCCESS       | info    | The initialization finished successfully without homotopy method.\n",
      "LOG_SUCCESS       | info    | The simulation finished successfully.\n",
      "LOG_STDOUT        | info    | Linear model is created at /tmp/jl_PYmEzI/linearized_model.jl\n",
      "LOG_STDOUT        | info    | The output format can be changed with the command line option --linearizationDumpLanguage.\n",
      "LOG_STDOUT        | info    | The options are: --linearizationDumpLanguage=modelica, matlab, julia, python.\n",
      "\n",
      "[-37.11515951993282 0.152650870921866 0.9783784948469634 27.14547323067082 -4.151958660029475e-15 -5.02702416703799; 0.03766267524296531 -2.892695062569755 2.327906531167969 0.03446257865369526 3.590324635137635e-17 -0.06874331364290939; 0.8982863479176678 8.662865288116866 -22.1335447856774 0.8219613641076601 8.313334565003573e-16 -1.639585604519208; 0.6567453200968744 0.003379367793970616 0.0216592329662515 -0.8774531127117825 -2.009012254852972e-16 -0.1112876950324664; -0.07730729461583068 -0.004182506437262294 -0.02680675405297959 -0.07073870095566188 -1.239395937921043e-16 -0.121775319401386; 0.0 0.0 0.0 0.0 376.9911184307751 0.0]\n",
      "\n",
      "Eigenvalue: -37.5641302882028 + 0.0im\n",
      "Damping Ratio (ζ): 1.0\n",
      "Damped Frequency (f_d): 0.0\n",
      "\n",
      "Eigenvalue: -23.04238442193241 + 0.0im\n",
      "Damping Ratio (ζ): 1.0\n",
      "Damped Frequency (f_d): 0.0\n",
      "\n",
      "Eigenvalue: -1.8720359323155449 + 0.0im\n",
      "Damping Ratio (ζ): 1.0\n",
      "Damped Frequency (f_d): 0.0\n",
      "\n",
      "Eigenvalue: -0.20223784066662698 - 6.445037152823522im\n",
      "Damping Ratio (ζ): 0.031363411009873596\n",
      "Damped Frequency (f_d): -1.0257595212827788\n",
      "\n",
      "Eigenvalue: -0.20223784066662698 + 6.445037152823522im\n",
      "Damping Ratio (ζ): 0.031363411009873596\n",
      "Damped Frequency (f_d): 1.0257595212827788\n",
      "\n",
      "Eigenvalue: -0.13582615710777732 + 0.0im\n",
      "Damping Ratio (ζ): 1.0\n",
      "Damped Frequency (f_d): 0.0\n",
      "\n"
     ]
    }
   ],
   "source": [
    "buildModel(Kundur)\n",
    "setLinearizationOptions(Kundur,[\"stopTime=5\",\"tolerance=1e-08\"])\n",
    "resultfile_name = string(\"Kundur\", \".csv\")\n",
    "simulate(Kundur,resultfile = resultfile_name,\n",
    "                simflags = \"-override=outputFormat=csv\")\n",
    "resultfile = joinpath(getWorkDirectory(Kundur), resultfile_name)\n",
    "df = DataFrame(CSV.File(resultfile));\n",
    "(A, B, C, D) = linearize(Kundur)\n",
    "\n",
    "println()\n",
    "println(A)\n",
    "println()\n",
    "\n",
    "# Compute eigenvalues of A\n",
    "eigenvalues = eigen(A).values\n",
    "\n",
    "# Function to compute damping ratio and natural frequency\n",
    "function damping_and_frequency(lambda)\n",
    "    α = real(lambda)   # Real part (damping coefficient)\n",
    "    ω_d = imag(lambda) # Imaginary part (damped natural frequency)\n",
    "    \n",
    "    # Natural frequency (ω_n)\n",
    "    ω_n = sqrt(α^2 + ω_d^2)\n",
    "    \n",
    "    # Damping ratio (ζ)\n",
    "    ζ = -α / ω_n\n",
    "\n",
    "    # Damped frequency in Hz (f_d)\n",
    "    f_d = ω_d / (2*π)\n",
    "    \n",
    "    return ζ, ω_n, f_d\n",
    "end\n",
    "\n",
    "# Loop through the eigenvalues and calculate damping & frequency\n",
    "for λ in eigenvalues\n",
    "    ζ, ω_n, f_d = damping_and_frequency(λ)\n",
    "    println(\"Eigenvalue: $λ\")\n",
    "    println(\"Damping Ratio (ζ): $ζ\")\n",
    "    println(\"Damped Frequency (f_d): $f_d\")\n",
    "    println()\n",
    "end\n",
    "\n"
   ]
  },
  {
   "cell_type": "code",
   "execution_count": 5,
   "id": "a6451c79-4c95-4830-93cf-891a46c7140f",
   "metadata": {},
   "outputs": [
    {
     "name": "stderr",
     "output_type": "stream",
     "text": [
      "\u001b[36m\u001b[1m[ \u001b[22m\u001b[39m\u001b[36m\u001b[1mInfo: \u001b[22m\u001b[39mPath to zmq file=\"/tmp/openmodelica.guironnetadr.port.julia.FIqlUpVcmj\"\n"
     ]
    }
   ],
   "source": [
    "Kundur = OMJulia.OMCSession()\n",
    "ModelicaSystem(Kundur,Dynawo_package_file,\"Dynawo.Examples.SMIB.Kundur.KundurVRStepEfd\",[Modelica_package_file])"
   ]
  },
  {
   "cell_type": "code",
   "execution_count": 6,
   "id": "571df7fd-2960-4dd2-b682-ce4b6e708bd3",
   "metadata": {},
   "outputs": [
    {
     "name": "stdout",
     "output_type": "stream",
     "text": [
      "LOG_STDOUT        | info    | Linearization will be performed at point of time: 5.000000\n",
      "LOG_SUCCESS       | info    | The initialization finished successfully without homotopy method.\n",
      "LOG_SUCCESS       | info    | The simulation finished successfully.\n",
      "LOG_STDOUT        | info    | Linear model is created at /tmp/jl_Xm2TLE/linearized_model.jl\n",
      "LOG_STDOUT        | info    | The output format can be changed with the command line option --linearizationDumpLanguage.\n",
      "LOG_STDOUT        | info    | The options are: --linearizationDumpLanguage=modelica, matlab, julia, python.\n",
      "\n",
      "[-37.11486965739586 0.1526208548224544 0.9781861139845309 27.14573846436478 4.151958660029475e-15 -5.027131074047604 -4.151958660029475e-15; 0.037655046795042 -2.892693631582966 2.327915702728482 0.03445559837454874 4.787099513516847e-17 -0.0687201860597339 4.308389562165163e-16; 0.8981044030456923 8.662899418350257 -22.13332603627772 0.8217948786038874 5.938096117859695e-16 -1.63903399229058 -3.562857670715817e-15; 0.6567517370410833 0.003378703300939671 0.02165497406037852 -0.8774472409981279 -2.009012254852972e-16 -0.1112900617278091 -2.056315191440591; -0.0773089007060451 -0.004181068924912234 -0.02679754066847115 -0.07074017058069482 -8.189347004232599e-17 -0.1217670794226689 -1.91131630748325e-17; 0.0 0.0 0.0 0.0 376.9911184307751 0.0 0.0; 5.071981804537797 -1.198383551934737 -7.680746848743222 4.641029102191433 6.2369621695691e-15 -2.998276613942004 -20.0]\n",
      "\n",
      "Eigenvalue: -38.010584651357554 + 0.0im\n",
      "Damping Ratio (ζ): 1.0\n",
      "Damped Frequency (f_d): 0.0\n",
      "\n",
      "Eigenvalue: -22.620967300931724 + 0.0im\n",
      "Damping Ratio (ζ): 1.0\n",
      "Damped Frequency (f_d): 0.0\n",
      "\n",
      "Eigenvalue: -19.045092746332525 + 0.0im\n",
      "Damping Ratio (ζ): 1.0\n",
      "Damped Frequency (f_d): 0.0\n",
      "\n",
      "Eigenvalue: -2.212222606925936 + 0.0im\n",
      "Damping Ratio (ζ): 1.0\n",
      "Damped Frequency (f_d): 0.0\n",
      "\n",
      "Eigenvalue: -1.077478025641598 + 0.0im\n",
      "Damping Ratio (ζ): 1.0\n",
      "Damped Frequency (f_d): 0.0\n",
      "\n",
      "Eigenvalue: -0.02599561753269808 - 6.397379506422174im\n",
      "Damping Ratio (ζ): 0.004063445492210721\n",
      "Damped Frequency (f_d): -1.0181745712818786\n",
      "\n",
      "Eigenvalue: -0.02599561753269808 + 6.397379506422174im\n",
      "Damping Ratio (ζ): 0.004063445492210721\n",
      "Damped Frequency (f_d): 1.0181745712818786\n",
      "\n"
     ]
    }
   ],
   "source": [
    "buildModel(Kundur)\n",
    "setLinearizationOptions(Kundur,[\"stopTime=5\",\"tolerance=1e-08\"])\n",
    "resultfile_name = string(\"Kundur\", \".csv\")\n",
    "simulate(Kundur,resultfile = resultfile_name,\n",
    "                simflags = \"-override=outputFormat=csv\")\n",
    "resultfile = joinpath(getWorkDirectory(Kundur), resultfile_name)\n",
    "df = DataFrame(CSV.File(resultfile));\n",
    "(A, B, C, D) = linearize(Kundur)\n",
    "\n",
    "println()\n",
    "println(A)\n",
    "println()\n",
    "\n",
    "# Compute eigenvalues of A\n",
    "eigenvalues = eigen(A).values\n",
    "\n",
    "# Loop through the eigenvalues and calculate damping & frequency\n",
    "for λ in eigenvalues\n",
    "    ζ, ω_n, f_d = damping_and_frequency(λ)\n",
    "    println(\"Eigenvalue: $λ\")\n",
    "    println(\"Damping Ratio (ζ): $ζ\")\n",
    "    println(\"Damped Frequency (f_d): $f_d\")\n",
    "    println()\n",
    "end\n"
   ]
  }
 ],
 "metadata": {
  "kernelspec": {
   "display_name": "Julia 1.10.3",
   "language": "julia",
   "name": "julia-1.10"
  },
  "language_info": {
   "file_extension": ".jl",
   "mimetype": "application/julia",
   "name": "julia",
   "version": "1.10.3"
  }
 },
 "nbformat": 4,
 "nbformat_minor": 5
}
