{
 "cells": [
  {
   "cell_type": "markdown",
   "id": "d7107b3c-3fdb-464d-b561-ee05ac283de0",
   "metadata": {},
   "source": [
    "## Indicate Dynawo and Modelica package.mo"
   ]
  },
  {
   "cell_type": "code",
   "execution_count": 1,
   "id": "2dd1dcfd-65f3-46a5-ab46-5ea6f2e530b1",
   "metadata": {},
   "outputs": [
    {
     "data": {
      "text/plain": [
       "\"/home/guironnetadr/Projects/Install/OpenModelica/lib/omlibrary/Modelica/package.mo\""
      ]
     },
     "execution_count": 1,
     "metadata": {},
     "output_type": "execute_result"
    }
   ],
   "source": [
    "#=  The env variable DYNAWO_PATH must has be set beforehands to the root of the dynawo code.\n",
    "    In case you are only working with the library distribution, the second part of the expression must be slightly modified.\n",
    "    Anyway the package_file should be pointing to the package.mo file of the Dynawo library you want to use\n",
    "=#\n",
    "\n",
    "Dynawo_package_file = string(ENV[\"DYNAWO_PATH\"], \"/dynawo/sources/Models/Modelica/Dynawo/package.mo\")\n",
    "Modelica_package_file = string(ENV[\"MODELICA_PATH\"], \"package.mo\")"
   ]
  },
  {
   "cell_type": "markdown",
   "id": "95d13589-1844-4fe7-9201-d8920f504689",
   "metadata": {},
   "source": [
    "## Import packages and data"
   ]
  },
  {
   "cell_type": "code",
   "execution_count": 2,
   "id": "a569808f-63c2-4c48-8d2f-8d817df799b9",
   "metadata": {},
   "outputs": [],
   "source": [
    "using OMJulia\n",
    "using Plots, DataFrames, CSV, LinearAlgebra"
   ]
  },
  {
   "cell_type": "code",
   "execution_count": 3,
   "id": "835f7b1e-52a5-4a27-9c1f-dcb82475c59b",
   "metadata": {},
   "outputs": [
    {
     "name": "stderr",
     "output_type": "stream",
     "text": [
      "\u001b[36m\u001b[1m[ \u001b[22m\u001b[39m\u001b[36m\u001b[1mInfo: \u001b[22m\u001b[39mPath to zmq file=\"/tmp/openmodelica.guironnetadr.port.julia.nHr8oKQlHC\"\n"
     ]
    }
   ],
   "source": [
    "Kundur = OMJulia.OMCSession()\n",
    "ModelicaSystem(Kundur,Dynawo_package_file,\"Dynawo.Examples.SMIB.Kundur.KundurStepEfd\",[Modelica_package_file])\n"
   ]
  },
  {
   "cell_type": "markdown",
   "id": "471f8561-86bf-4166-b019-a1d1376657e7",
   "metadata": {},
   "source": [
    "## Run initial simulation"
   ]
  },
  {
   "cell_type": "code",
   "execution_count": 4,
   "id": "82bf5182-85cd-47dd-a9c8-f07d6ae976fc",
   "metadata": {},
   "outputs": [
    {
     "name": "stdout",
     "output_type": "stream",
     "text": [
      "LOG_STDOUT        | info    | Linearization will be performed at point of time: 5.000000\n",
      "LOG_SUCCESS       | info    | The initialization finished successfully without homotopy method.\n",
      "LOG_SUCCESS       | info    | The simulation finished successfully.\n",
      "LOG_STDOUT        | info    | Linear model is created at /tmp/jl_40HziX/linearized_model.jl\n",
      "LOG_STDOUT        | info    | The output format can be changed with the command line option --linearizationDumpLanguage.\n",
      "LOG_STDOUT        | info    | The options are: --linearizationDumpLanguage=modelica, matlab, julia, python.\n",
      "\n",
      "[-37.11515951993282 0.152650870921866 0.9783784948469634 27.14547323067082 -4.151958660029475e-15 -5.02702416703799; 0.03766267524296531 -2.892695062569755 2.327906531167969 0.03446257865369526 3.590324635137635e-17 -0.06874331364290939; 0.8982863479176678 8.662865288116866 -22.1335447856774 0.8219613641076601 8.313334565003573e-16 -1.639585604519208; 0.6567453200968744 0.003379367793970616 0.0216592329662515 -0.8774531127117825 -2.009012254852972e-16 -0.1112876950324664; -0.07730729461583068 -0.004182506437262294 -0.02680675405297959 -0.07073870095566188 -1.239395937921043e-16 -0.121775319401386; 0.0 0.0 0.0 0.0 376.9911184307751 0.0]\n",
      "\n",
      "Eigenvalue: -37.5641302882028 + 0.0im\n",
      "Damping Ratio (ζ): 1.0\n",
      "Damped Frequency (f_d): 0.0\n",
      "\n",
      "Eigenvalue: -23.04238442193241 + 0.0im\n",
      "Damping Ratio (ζ): 1.0\n",
      "Damped Frequency (f_d): 0.0\n",
      "\n",
      "Eigenvalue: -1.8720359323155449 + 0.0im\n",
      "Damping Ratio (ζ): 1.0\n",
      "Damped Frequency (f_d): 0.0\n",
      "\n",
      "Eigenvalue: -0.20223784066662698 - 6.445037152823522im\n",
      "Damping Ratio (ζ): 0.031363411009873596\n",
      "Damped Frequency (f_d): -1.0257595212827788\n",
      "\n",
      "Eigenvalue: -0.20223784066662698 + 6.445037152823522im\n",
      "Damping Ratio (ζ): 0.031363411009873596\n",
      "Damped Frequency (f_d): 1.0257595212827788\n",
      "\n",
      "Eigenvalue: -0.13582615710777732 + 0.0im\n",
      "Damping Ratio (ζ): 1.0\n",
      "Damped Frequency (f_d): 0.0\n",
      "\n"
     ]
    }
   ],
   "source": [
    "buildModel(Kundur)\n",
    "setLinearizationOptions(Kundur,[\"stopTime=5\",\"tolerance=1e-08\"])\n",
    "resultfile_name = string(\"Kundur\", \".csv\")\n",
    "simulate(Kundur,resultfile = resultfile_name,\n",
    "                simflags = \"-override=outputFormat=csv\")\n",
    "resultfile = joinpath(getWorkDirectory(Kundur), resultfile_name)\n",
    "df = DataFrame(CSV.File(resultfile));\n",
    "(A, B, C, D) = linearize(Kundur)\n",
    "\n",
    "println()\n",
    "println(A)\n",
    "println()\n",
    "\n",
    "# Compute eigenvalues of A\n",
    "eigenvalues = eigen(A).values\n",
    "\n",
    "# Function to compute damping ratio and natural frequency\n",
    "function damping_and_frequency(lambda)\n",
    "    α = real(lambda)   # Real part (damping coefficient)\n",
    "    ω_d = imag(lambda) # Imaginary part (damped natural frequency)\n",
    "    \n",
    "    # Natural frequency (ω_n)\n",
    "    ω_n = sqrt(α^2 + ω_d^2)\n",
    "    \n",
    "    # Damping ratio (ζ)\n",
    "    ζ = -α / ω_n\n",
    "\n",
    "    # Damped frequency in Hz (f_d)\n",
    "    f_d = ω_d / (2*π)\n",
    "    \n",
    "    return ζ, ω_n, f_d\n",
    "end\n",
    "\n",
    "# Loop through the eigenvalues and calculate damping & frequency\n",
    "for λ in eigenvalues\n",
    "    ζ, ω_n, f_d = damping_and_frequency(λ)\n",
    "    println(\"Eigenvalue: $λ\")\n",
    "    println(\"Damping Ratio (ζ): $ζ\")\n",
    "    println(\"Damped Frequency (f_d): $f_d\")\n",
    "    println()\n",
    "end\n",
    "\n"
   ]
  },
  {
   "cell_type": "code",
   "execution_count": 5,
   "id": "a6451c79-4c95-4830-93cf-891a46c7140f",
   "metadata": {},
   "outputs": [
    {
     "name": "stderr",
     "output_type": "stream",
     "text": [
      "\u001b[36m\u001b[1m[ \u001b[22m\u001b[39m\u001b[36m\u001b[1mInfo: \u001b[22m\u001b[39mPath to zmq file=\"/tmp/openmodelica.guironnetadr.port.julia.zS8rpLD8j6\"\n"
     ]
    }
   ],
   "source": [
    "Kundur = OMJulia.OMCSession()\n",
    "ModelicaSystem(Kundur,Dynawo_package_file,\"Dynawo.Examples.SMIB.Kundur.KundurVRStepEfd\",[Modelica_package_file])"
   ]
  },
  {
   "cell_type": "code",
   "execution_count": 6,
   "id": "571df7fd-2960-4dd2-b682-ce4b6e708bd3",
   "metadata": {},
   "outputs": [
    {
     "name": "stdout",
     "output_type": "stream",
     "text": [
      "LOG_STDOUT        | info    | Linearization will be performed at point of time: 5.000000\n",
      "LOG_SUCCESS       | info    | The initialization finished successfully without homotopy method.\n",
      "LOG_SUCCESS       | info    | The simulation finished successfully.\n",
      "LOG_STDOUT        | info    | Linear model is created at /tmp/jl_8o0i7W/linearized_model.jl\n",
      "LOG_STDOUT        | info    | The output format can be changed with the command line option --linearizationDumpLanguage.\n",
      "LOG_STDOUT        | info    | The options are: --linearizationDumpLanguage=modelica, matlab, julia, python.\n",
      "\n",
      "[-37.11486062208962 0.1526199915764105 0.9781805812195872 27.14574673196527 -3.32156692802358e-14 -5.027133933166114 1.037989665007369e-15; 0.03765482739294268 -2.892693594784899 2.327915938576723 0.03445539761445637 4.787099513516847e-17 -0.06871963656500071 2.393549756758424e-17; 0.8980991701218687 8.662900296015017 -22.13332041109974 0.8217900903075878 1.425143068286327e-15 -1.639020886380981 9.500953788575514e-16; 0.6567519370636759 0.003378684190494872 0.02165485157665114 -0.8774470579709192 4.018024509705943e-16 -0.1112901250226527 -2.741753588587456; -0.07730894346836277 -0.004181034725093783 -0.02679732147308355 -0.07074020970961281 -1.329901342492114e-16 -0.1217669308567286 3.63736838368148e-17; 0.0 0.0 0.0 0.0 376.9911184307751 0.0 0.0; 5.071975701529963 -1.198386063604181 -7.680762946675397 4.641023517739817 9.06154454825847e-15 -2.998277183134585 -20.0]\n",
      "\n",
      "Eigenvalue: -38.149441969299346 + 0.0im\n",
      "Damping Ratio (ζ): 1.0\n",
      "Damped Frequency (f_d): 0.0\n",
      "\n",
      "Eigenvalue: -22.5256571980019 + 0.0im\n",
      "Damping Ratio (ζ): 1.0\n",
      "Damped Frequency (f_d): 0.0\n",
      "\n",
      "Eigenvalue: -18.662337353457104 + 0.0im\n",
      "Damping Ratio (ζ): 1.0\n",
      "Damped Frequency (f_d): 0.0\n",
      "\n",
      "Eigenvalue: -2.482809688834322 + 0.0im\n",
      "Damping Ratio (ζ): 1.0\n",
      "Damped Frequency (f_d): 0.0\n",
      "\n",
      "Eigenvalue: -1.27073998312308 + 0.0im\n",
      "Damping Ratio (ζ): 1.0\n",
      "Damped Frequency (f_d): 0.0\n",
      "\n",
      "Eigenvalue: 0.03633225338531121 - 6.394576874759104im\n",
      "Damping Ratio (ζ): -0.005681637373567824\n",
      "Damped Frequency (f_d): -1.0177285185990352\n",
      "\n",
      "Eigenvalue: 0.03633225338531121 + 6.394576874759104im\n",
      "Damping Ratio (ζ): -0.005681637373567824\n",
      "Damped Frequency (f_d): 1.0177285185990352\n",
      "\n"
     ]
    }
   ],
   "source": [
    "buildModel(Kundur)\n",
    "setLinearizationOptions(Kundur,[\"stopTime=5\",\"tolerance=1e-08\"])\n",
    "resultfile_name = string(\"Kundur\", \".csv\")\n",
    "simulate(Kundur,resultfile = resultfile_name,\n",
    "                simflags = \"-override=outputFormat=csv\")\n",
    "resultfile = joinpath(getWorkDirectory(Kundur), resultfile_name)\n",
    "df = DataFrame(CSV.File(resultfile));\n",
    "(A, B, C, D) = linearize(Kundur)\n",
    "\n",
    "println()\n",
    "println(A)\n",
    "println()\n",
    "\n",
    "# Compute eigenvalues of A\n",
    "eigenvalues = eigen(A).values\n",
    "\n",
    "# Loop through the eigenvalues and calculate damping & frequency\n",
    "for λ in eigenvalues\n",
    "    ζ, ω_n, f_d = damping_and_frequency(λ)\n",
    "    println(\"Eigenvalue: $λ\")\n",
    "    println(\"Damping Ratio (ζ): $ζ\")\n",
    "    println(\"Damped Frequency (f_d): $f_d\")\n",
    "    println()\n",
    "end\n"
   ]
  },
  {
   "cell_type": "code",
   "execution_count": null,
   "id": "36776f78-ea71-4ac4-8a0e-d11c3603f4d7",
   "metadata": {},
   "outputs": [],
   "source": []
  }
 ],
 "metadata": {
  "kernelspec": {
   "display_name": "Julia 1.10.3",
   "language": "julia",
   "name": "julia-1.10"
  },
  "language_info": {
   "file_extension": ".jl",
   "mimetype": "application/julia",
   "name": "julia",
   "version": "1.10.3"
  }
 },
 "nbformat": 4,
 "nbformat_minor": 5
}
