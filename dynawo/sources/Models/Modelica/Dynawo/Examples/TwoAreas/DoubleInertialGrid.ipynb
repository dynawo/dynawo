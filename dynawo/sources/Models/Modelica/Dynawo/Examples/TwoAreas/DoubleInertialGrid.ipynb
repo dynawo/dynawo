{
 "cells": [
  {
   "cell_type": "markdown",
   "id": "d7107b3c-3fdb-464d-b561-ee05ac283de0",
   "metadata": {},
   "source": [
    "## Indicate Dynawo and Modelica package.mo"
   ]
  },
  {
   "cell_type": "code",
   "execution_count": 1,
   "id": "2dd1dcfd-65f3-46a5-ab46-5ea6f2e530b1",
   "metadata": {},
   "outputs": [
    {
     "data": {
      "text/plain": [
       "\"/home/guironnetadr/Projects/Install/OpenModelica/lib/omlibrary/Modelica/package.mo\""
      ]
     },
     "execution_count": 1,
     "metadata": {},
     "output_type": "execute_result"
    }
   ],
   "source": [
    "#=  The env variable DYNAWO_PATH must has be set beforehands to the root of the dynawo code.\n",
    "    In case you are only working with the library distribution, the second part of the expression must be slightly modified.\n",
    "    Anyway the package_file should be pointing to the package.mo file of the Dynawo library you want to use\n",
    "=#\n",
    "\n",
    "Dynawo_package_file = string(ENV[\"DYNAWO_PATH\"], \"/dynawo/sources/Models/Modelica/Dynawo/package.mo\")\n",
    "Modelica_package_file = string(ENV[\"MODELICA_PATH\"], \"package.mo\")"
   ]
  },
  {
   "cell_type": "markdown",
   "id": "95d13589-1844-4fe7-9201-d8920f504689",
   "metadata": {},
   "source": [
    "## Import packages and data"
   ]
  },
  {
   "cell_type": "code",
   "execution_count": 2,
   "id": "a569808f-63c2-4c48-8d2f-8d817df799b9",
   "metadata": {},
   "outputs": [],
   "source": [
    "using OMJulia\n",
    "using Plots, DataFrames, CSV, LinearAlgebra"
   ]
  },
  {
   "cell_type": "code",
   "execution_count": 3,
   "id": "835f7b1e-52a5-4a27-9c1f-dcb82475c59b",
   "metadata": {},
   "outputs": [
    {
     "name": "stderr",
     "output_type": "stream",
     "text": [
      "\u001b[36m\u001b[1m[ \u001b[22m\u001b[39m\u001b[36m\u001b[1mInfo: \u001b[22m\u001b[39mPath to zmq file=\"/tmp/openmodelica.guironnetadr.port.julia.w2uToagCgJ\"\n"
     ]
    }
   ],
   "source": [
    "Kundur = OMJulia.OMCSession()\n",
    "ModelicaSystem(Kundur,Dynawo_package_file,\"Dynawo.Examples.TwoAreas.KundurPSS\",[Modelica_package_file])\n"
   ]
  },
  {
   "cell_type": "markdown",
   "id": "471f8561-86bf-4166-b019-a1d1376657e7",
   "metadata": {},
   "source": [
    "## Run initial simulation"
   ]
  },
  {
   "cell_type": "code",
   "execution_count": 4,
   "id": "82bf5182-85cd-47dd-a9c8-f07d6ae976fc",
   "metadata": {},
   "outputs": [
    {
     "name": "stdout",
     "output_type": "stream",
     "text": [
      "LOG_STDOUT        | info    | Using sparse solver for linear system 0,\n",
      "|                 | |       | because density of 0.066 remains under threshold of 0.200.\n",
      "LOG_STDOUT        | info    | The maximum density for using sparse solvers can be specified\n",
      "|                 | |       | using the runtime flag '<-lssMaxDensity=value>'.\n",
      "LOG_STDOUT        | info    | Using sparse solver kinsol for nonlinear system 0 (638),\n",
      "|                 | |       | because density of 0.05 remains under threshold of 0.10.\n",
      "LOG_STDOUT        | info    | Using sparse solver kinsol for nonlinear system 1 (1451),\n",
      "|                 | |       | because density of 0.05 remains under threshold of 0.10.\n",
      "LOG_STDOUT        | info    | The maximum density for using sparse solvers can be specified\n",
      "|                 | |       | using the runtime flag '<-nlssMaxDensity=value>'.\n",
      "LOG_STDOUT        | info    | Linearization will be performed at point of time: 20.000000\n",
      "LOG_SUCCESS       | info    | The initialization finished successfully without homotopy method.\n",
      "LOG_SUCCESS       | info    | The simulation finished successfully.\n",
      "LOG_STDOUT        | info    | Linear model is created at /tmp/jl_ezzxN8/linearized_model.jl\n",
      "LOG_STDOUT        | info    | The output format can be changed with the command line option --linearizationDumpLanguage.\n",
      "LOG_STDOUT        | info    | The options are: --linearizationDumpLanguage=modelica, matlab, julia, python.\n",
      "Natural Frequency: 15.521841594026153 Hz, Damping Ratio: 1.0\n",
      "Natural Frequency: 15.512697555405602 Hz, Damping Ratio: 1.0\n",
      "Natural Frequency: 15.234871673468056 Hz, Damping Ratio: 1.0\n",
      "Natural Frequency: 15.054857657996148 Hz, Damping Ratio: 1.0\n",
      "Natural Frequency: 8.039466182288935 Hz, Damping Ratio: 1.0\n",
      "Natural Frequency: 8.033722358390246 Hz, Damping Ratio: 1.0\n",
      "Natural Frequency: 7.991616019386094 Hz, Damping Ratio: 0.9999999690222947\n",
      "Natural Frequency: 7.991616019386094 Hz, Damping Ratio: 0.9999999690222947\n",
      "Natural Frequency: 5.801268196372331 Hz, Damping Ratio: 1.0\n",
      "Natural Frequency: 5.785581787195392 Hz, Damping Ratio: 1.0\n",
      "Natural Frequency: 5.035904225613354 Hz, Damping Ratio: 1.0\n",
      "Natural Frequency: 4.920982561761561 Hz, Damping Ratio: 1.0\n",
      "Natural Frequency: 4.484284083961849 Hz, Damping Ratio: 1.0\n",
      "Natural Frequency: 4.4520462410099375 Hz, Damping Ratio: 1.0\n",
      "Natural Frequency: 3.8624601680503803 Hz, Damping Ratio: 0.7892685719601601\n",
      "Natural Frequency: 3.8624601680503803 Hz, Damping Ratio: 0.7892685719601601\n",
      "Natural Frequency: 4.4453432826663875 Hz, Damping Ratio: 0.6489710509294256\n",
      "Natural Frequency: 4.4453432826663875 Hz, Damping Ratio: 0.6489710509294256\n",
      "Natural Frequency: 1.8246778777182011 Hz, Damping Ratio: 1.0\n",
      "Natural Frequency: 1.7632348623465743 Hz, Damping Ratio: 1.0\n",
      "Natural Frequency: 0.5793921291422295 Hz, Damping Ratio: 1.0\n",
      "Natural Frequency: 0.5607198078367172 Hz, Damping Ratio: 1.0\n",
      "Natural Frequency: 0.45018013448149247 Hz, Damping Ratio: 1.0\n",
      "Natural Frequency: 0.44264184060801204 Hz, Damping Ratio: 1.0\n",
      "Natural Frequency: 1.3937090066434776 Hz, Damping Ratio: 0.2344823868213538\n",
      "Natural Frequency: 1.3937090066434776 Hz, Damping Ratio: 0.2344823868213538\n",
      "Natural Frequency: 1.3439980834035654 Hz, Damping Ratio: 0.23606671407242294\n",
      "Natural Frequency: 1.3439980834035654 Hz, Damping Ratio: 0.23606671407242294\n",
      "Natural Frequency: 0.09502270170287003 Hz, Damping Ratio: 1.0\n",
      "Natural Frequency: 0.6183144487291021 Hz, Damping Ratio: 0.14039783833223882\n",
      "Natural Frequency: 0.6183144487291021 Hz, Damping Ratio: 0.14039783833223882\n",
      "Natural Frequency: 0.07358752425013482 Hz, Damping Ratio: 1.0\n",
      "Natural Frequency: 0.028679284359650514 Hz, Damping Ratio: 1.0\n",
      "Natural Frequency: 0.028436941783391043 Hz, Damping Ratio: 1.0\n",
      "Natural Frequency: 0.028369405594635935 Hz, Damping Ratio: 1.0\n",
      "Natural Frequency: 0.016431546536455635 Hz, Damping Ratio: 1.0\n",
      "Natural Frequency: 0.016398039574750983 Hz, Damping Ratio: 1.0\n",
      "Natural Frequency: 0.016290195269731095 Hz, Damping Ratio: 1.0\n",
      "Natural Frequency: 6.856477504969297e-9 Hz, Damping Ratio: 1.0\n",
      "Natural Frequency: 6.856480668830548e-9 Hz, Damping Ratio: -1.0\n"
     ]
    },
    {
     "name": "stderr",
     "output_type": "stream",
     "text": [
      "Internal error: stack overflow in type inference of linearized_model().\n",
      "This might be caused by recursion over very long tuples or argument lists.\n"
     ]
    }
   ],
   "source": [
    "buildModel(Kundur)\n",
    "setLinearizationOptions(Kundur,[\"stopTime=20\",\"tolerance=1e-04\"])\n",
    "resultfile_name = string(\"Kundur\", \".csv\")\n",
    "simulate(Kundur,resultfile = resultfile_name,\n",
    "                simflags = \"-override=outputFormat=csv\")\n",
    "resultfile = joinpath(getWorkDirectory(Kundur), resultfile_name)\n",
    "df = DataFrame(CSV.File(resultfile));\n",
    "(A, B, C, D) = linearize(Kundur)\n",
    "\n",
    "# Function to compute natural frequency and damping ratio\n",
    "function compute_freq_damping(eigenvalues)\n",
    "    results = []\n",
    "    \n",
    "    for λ in eigenvalues\n",
    "        # Extract real and imaginary parts\n",
    "        α = real(λ)\n",
    "        β = imag(λ)\n",
    "        \n",
    "        # Compute natural frequency\n",
    "        f_n = sqrt(α^2 + β^2) / (2 * π)\n",
    "        \n",
    "        # Compute damping ratio\n",
    "        ζ = -α / sqrt(α^2 + β^2)\n",
    "        \n",
    "        # Append the result (frequency, damping)\n",
    "        push!(results, (f_n, ζ))\n",
    "    end\n",
    "    \n",
    "    return results\n",
    "end\n",
    "\n",
    "# Compute frequency and damping ratio\n",
    "freq_damping = compute_freq_damping(eigvals(A))\n",
    "\n",
    "# Display results\n",
    "for (f_n, ζ) in freq_damping\n",
    "    println(\"Natural Frequency: $f_n Hz, Damping Ratio: $ζ\")\n",
    "end\n",
    "\n",
    "\n"
   ]
  }
 ],
 "metadata": {
  "kernelspec": {
   "display_name": "Julia 1.10.3",
   "language": "julia",
   "name": "julia-1.10"
  },
  "language_info": {
   "file_extension": ".jl",
   "mimetype": "application/julia",
   "name": "julia",
   "version": "1.10.3"
  }
 },
 "nbformat": 4,
 "nbformat_minor": 5
}
