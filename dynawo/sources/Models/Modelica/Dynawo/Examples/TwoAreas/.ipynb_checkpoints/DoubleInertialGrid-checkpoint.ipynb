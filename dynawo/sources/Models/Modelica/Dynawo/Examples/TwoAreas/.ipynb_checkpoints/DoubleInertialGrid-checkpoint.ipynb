{
 "cells": [
  {
   "cell_type": "markdown",
   "id": "d7107b3c-3fdb-464d-b561-ee05ac283de0",
   "metadata": {},
   "source": [
    "## Indicate Dynawo and Modelica package.mo"
   ]
  },
  {
   "cell_type": "code",
   "execution_count": 1,
   "id": "2dd1dcfd-65f3-46a5-ab46-5ea6f2e530b1",
   "metadata": {},
   "outputs": [
    {
     "data": {
      "text/plain": [
       "\"/home/guironnetadr/Projects/Install/OpenModelica/lib/omlibrary/Modelica/package.mo\""
      ]
     },
     "execution_count": 1,
     "metadata": {},
     "output_type": "execute_result"
    }
   ],
   "source": [
    "#=  The env variable DYNAWO_PATH must has be set beforehands to the root of the dynawo code.\n",
    "    In case you are only working with the library distribution, the second part of the expression must be slightly modified.\n",
    "    Anyway the package_file should be pointing to the package.mo file of the Dynawo library you want to use\n",
    "=#\n",
    "\n",
    "Dynawo_package_file = string(ENV[\"DYNAWO_PATH\"], \"/dynawo/sources/Models/Modelica/Dynawo/package.mo\")\n",
    "Modelica_package_file = string(ENV[\"MODELICA_PATH\"], \"package.mo\")"
   ]
  },
  {
   "cell_type": "markdown",
   "id": "95d13589-1844-4fe7-9201-d8920f504689",
   "metadata": {},
   "source": [
    "## Import packages and data"
   ]
  },
  {
   "cell_type": "code",
   "execution_count": 2,
   "id": "a569808f-63c2-4c48-8d2f-8d817df799b9",
   "metadata": {},
   "outputs": [],
   "source": [
    "using OMJulia\n",
    "using Plots, DataFrames, CSV, LinearAlgebra"
   ]
  },
  {
   "cell_type": "code",
   "execution_count": 3,
   "id": "835f7b1e-52a5-4a27-9c1f-dcb82475c59b",
   "metadata": {},
   "outputs": [
    {
     "name": "stderr",
     "output_type": "stream",
     "text": [
      "\u001b[36m\u001b[1m[ \u001b[22m\u001b[39m\u001b[36m\u001b[1mInfo: \u001b[22m\u001b[39mPath to zmq file=\"/tmp/openmodelica.guironnetadr.port.julia.EWr6ev5sgQ\"\n"
     ]
    }
   ],
   "source": [
    "Kundur = OMJulia.OMCSession()\n",
    "ModelicaSystem(Kundur,Dynawo_package_file,\"Dynawo.Examples.TwoAreas.KundurPSS\",[Modelica_package_file])\n"
   ]
  },
  {
   "cell_type": "markdown",
   "id": "471f8561-86bf-4166-b019-a1d1376657e7",
   "metadata": {},
   "source": [
    "## Run initial simulation"
   ]
  },
  {
   "cell_type": "code",
   "execution_count": 4,
   "id": "82bf5182-85cd-47dd-a9c8-f07d6ae976fc",
   "metadata": {},
   "outputs": [
    {
     "name": "stdout",
     "output_type": "stream",
     "text": [
      "LOG_STDOUT        | info    | Using sparse solver for linear system 0,\n",
      "|                 | |       | because density of 0.066 remains under threshold of 0.200.\n",
      "LOG_STDOUT        | info    | The maximum density for using sparse solvers can be specified\n",
      "|                 | |       | using the runtime flag '<-lssMaxDensity=value>'.\n",
      "LOG_STDOUT        | info    | Using sparse solver kinsol for nonlinear system 0 (639),\n",
      "|                 | |       | because density of 0.05 remains under threshold of 0.10.\n",
      "LOG_STDOUT        | info    | Using sparse solver kinsol for nonlinear system 1 (1445),\n",
      "|                 | |       | because density of 0.05 remains under threshold of 0.10.\n",
      "LOG_STDOUT        | info    | The maximum density for using sparse solvers can be specified\n",
      "|                 | |       | using the runtime flag '<-nlssMaxDensity=value>'.\n",
      "LOG_STDOUT        | info    | Linearization will be performed at point of time: 10.000000\n",
      "LOG_SUCCESS       | info    | The initialization finished successfully without homotopy method.\n",
      "LOG_SUCCESS       | info    | The simulation finished successfully.\n",
      "LOG_STDOUT        | info    | Linear model is created at /tmp/jl_VMjuZz/linearized_model.jl\n",
      "LOG_STDOUT        | info    | The output format can be changed with the command line option --linearizationDumpLanguage.\n",
      "LOG_STDOUT        | info    | The options are: --linearizationDumpLanguage=modelica, matlab, julia, python.\n",
      "Natural Frequency: 15.521631969776582 Hz, Damping Ratio: 1.0\n",
      "Natural Frequency: 15.51243113397094 Hz, Damping Ratio: 1.0\n",
      "Natural Frequency: 15.234721657166824 Hz, Damping Ratio: 1.0\n",
      "Natural Frequency: 15.053474199344684 Hz, Damping Ratio: 1.0\n",
      "Natural Frequency: 8.040432964690286 Hz, Damping Ratio: 1.0\n",
      "Natural Frequency: 8.034136174281453 Hz, Damping Ratio: 1.0\n",
      "Natural Frequency: 7.996493746065126 Hz, Damping Ratio: 1.0\n",
      "Natural Frequency: 7.957747154594772 Hz, Damping Ratio: 1.0\n",
      "Natural Frequency: 5.8021096836695705 Hz, Damping Ratio: 1.0\n",
      "Natural Frequency: 5.786342633393858 Hz, Damping Ratio: 1.0\n",
      "Natural Frequency: 5.033902823485322 Hz, Damping Ratio: 1.0\n",
      "Natural Frequency: 4.918942990771577 Hz, Damping Ratio: 1.0\n",
      "Natural Frequency: 4.49447298165782 Hz, Damping Ratio: 1.0\n",
      "Natural Frequency: 4.463917218283232 Hz, Damping Ratio: 1.0\n",
      "Natural Frequency: 3.8638826902787864 Hz, Damping Ratio: 0.790703132049572\n",
      "Natural Frequency: 3.8638826902787864 Hz, Damping Ratio: 0.790703132049572\n",
      "Natural Frequency: 4.453860207563855 Hz, Damping Ratio: 0.6667605561419737\n",
      "Natural Frequency: 4.453860207563855 Hz, Damping Ratio: 0.6667605561419737\n",
      "Natural Frequency: 1.8221618163746414 Hz, Damping Ratio: 1.0\n",
      "Natural Frequency: 1.761738711799969 Hz, Damping Ratio: 1.0\n",
      "Natural Frequency: 0.5733851392014863 Hz, Damping Ratio: 1.0\n",
      "Natural Frequency: 0.5581779539609532 Hz, Damping Ratio: 1.0\n",
      "Natural Frequency: 0.4479858074521257 Hz, Damping Ratio: 1.0\n",
      "Natural Frequency: 0.44013537371580774 Hz, Damping Ratio: 1.0\n",
      "Natural Frequency: 1.400395961500677 Hz, Damping Ratio: 0.2340315845748695\n",
      "Natural Frequency: 1.400395961500677 Hz, Damping Ratio: 0.2340315845748695\n",
      "Natural Frequency: 1.3504682399777812 Hz, Damping Ratio: 0.235346422333646\n",
      "Natural Frequency: 1.3504682399777812 Hz, Damping Ratio: 0.235346422333646\n",
      "Natural Frequency: 0.6217572231149242 Hz, Damping Ratio: 0.1426535753042499\n",
      "Natural Frequency: 0.6217572231149242 Hz, Damping Ratio: 0.1426535753042499\n",
      "Natural Frequency: 0.029473137609610168 Hz, Damping Ratio: 1.0\n",
      "Natural Frequency: 0.028689213492533082 Hz, Damping Ratio: 1.0\n",
      "Natural Frequency: 0.028445045318842548 Hz, Damping Ratio: 1.0\n",
      "Natural Frequency: 0.028387073369628184 Hz, Damping Ratio: 1.0\n",
      "Natural Frequency: 0.016422851631487347 Hz, Damping Ratio: 1.0\n",
      "Natural Frequency: 0.016394100544083644 Hz, Damping Ratio: 1.0\n",
      "Natural Frequency: 0.016285441150373076 Hz, Damping Ratio: 1.0\n",
      "Natural Frequency: 0.015915494309189746 Hz, Damping Ratio: 1.0\n",
      "Natural Frequency: 2.238711956715869e-15 Hz, Damping Ratio: 0.4818075159682877\n",
      "Natural Frequency: 2.238711956715869e-15 Hz, Damping Ratio: 0.4818075159682877\n"
     ]
    },
    {
     "name": "stderr",
     "output_type": "stream",
     "text": [
      "Internal error: stack overflow in type inference of linearized_model().\n",
      "This might be caused by recursion over very long tuples or argument lists.\n"
     ]
    }
   ],
   "source": [
    "buildModel(Kundur)\n",
    "setLinearizationOptions(Kundur,[\"stopTime=10\",\"tolerance=1e-04\"])\n",
    "resultfile_name = string(\"Kundur\", \".csv\")\n",
    "simulate(Kundur,resultfile = resultfile_name,\n",
    "                simflags = \"-override=outputFormat=csv\")\n",
    "resultfile = joinpath(getWorkDirectory(Kundur), resultfile_name)\n",
    "df = DataFrame(CSV.File(resultfile));\n",
    "(A, B, C, D) = linearize(Kundur)\n",
    "\n",
    "# Function to compute natural frequency and damping ratio\n",
    "function compute_freq_damping(eigenvalues)\n",
    "    results = []\n",
    "    \n",
    "    for λ in eigenvalues\n",
    "        # Extract real and imaginary parts\n",
    "        α = real(λ)\n",
    "        β = imag(λ)\n",
    "        \n",
    "        # Compute natural frequency\n",
    "        f_n = sqrt(α^2 + β^2) / (2 * π)\n",
    "        \n",
    "        # Compute damping ratio\n",
    "        ζ = -α / sqrt(α^2 + β^2)\n",
    "        \n",
    "        # Append the result (frequency, damping)\n",
    "        push!(results, (f_n, ζ))\n",
    "    end\n",
    "    \n",
    "    return results\n",
    "end\n",
    "\n",
    "# Compute frequency and damping ratio\n",
    "freq_damping = compute_freq_damping(eigvals(A))\n",
    "\n",
    "# Display results\n",
    "for (f_n, ζ) in freq_damping\n",
    "    println(\"Natural Frequency: $f_n Hz, Damping Ratio: $ζ\")\n",
    "end\n",
    "\n",
    "\n"
   ]
  }
 ],
 "metadata": {
  "kernelspec": {
   "display_name": "Julia 1.10.3",
   "language": "julia",
   "name": "julia-1.10"
  },
  "language_info": {
   "file_extension": ".jl",
   "mimetype": "application/julia",
   "name": "julia",
   "version": "1.10.3"
  }
 },
 "nbformat": 4,
 "nbformat_minor": 5
}
