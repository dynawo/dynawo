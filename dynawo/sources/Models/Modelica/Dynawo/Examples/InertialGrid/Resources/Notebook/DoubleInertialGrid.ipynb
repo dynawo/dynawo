{
 "cells": [
  {
   "cell_type": "markdown",
   "id": "d7107b3c-3fdb-464d-b561-ee05ac283de0",
   "metadata": {},
   "source": [
    "## Indicate Dynawo and Modelica package.mo"
   ]
  },
  {
   "cell_type": "code",
   "execution_count": null,
   "id": "2dd1dcfd-65f3-46a5-ab46-5ea6f2e530b1",
   "metadata": {},
   "outputs": [],
   "source": [
    "#=  The env variable DYNAWO_PATH must has be set beforehands to the root of the dynawo code.\n",
    "    In case you are only working with the library distribution, the second part of the expression must be slightly modified.\n",
    "    Anyway the package_file should be pointing to the package.mo file of the Dynawo library you want to use\n",
    "=#\n",
    "\n",
    "Dynawo_package_file = string(ENV[\"DYNAWO_PATH\"], \"/dynawo/sources/Models/Modelica/Dynawo/package.mo\")\n",
    "Modelica_package_file = string(ENV[\"MODELICA_PATH\"], \"package.mo\")"
   ]
  },
  {
   "cell_type": "markdown",
   "id": "95d13589-1844-4fe7-9201-d8920f504689",
   "metadata": {},
   "source": [
    "## Import packages and data"
   ]
  },
  {
   "cell_type": "code",
   "execution_count": null,
   "id": "a569808f-63c2-4c48-8d2f-8d817df799b9",
   "metadata": {},
   "outputs": [],
   "source": [
    "using OMJulia\n",
    "using Plots, DataFrames, CSV"
   ]
  },
  {
   "cell_type": "code",
   "execution_count": null,
   "id": "835f7b1e-52a5-4a27-9c1f-dcb82475c59b",
   "metadata": {},
   "outputs": [],
   "source": [
    "StaticCase = OMJulia.OMCSession()\n",
    "ModelicaSystem(StaticCase,Dynawo_package_file,\"Dynawo.Examples.InertialGrid.StaticCase\",[Modelica_package_file])\n",
    "\n",
    "DoubleIG = OMJulia.OMCSession()\n",
    "ModelicaSystem(DoubleIG,Dynawo_package_file,\"Dynawo.Examples.InertialGrid.DoubleInertialGrid\",[Modelica_package_file])\n"
   ]
  },
  {
   "cell_type": "markdown",
   "id": "471f8561-86bf-4166-b019-a1d1376657e7",
   "metadata": {},
   "source": [
    "## Run initial simulation"
   ]
  },
  {
   "cell_type": "code",
   "execution_count": null,
   "id": "82bf5182-85cd-47dd-a9c8-f07d6ae976fc",
   "metadata": {},
   "outputs": [],
   "source": [
    "buildModel(StaticCase)\n",
    "simulate(StaticCase)\n",
    "\n",
    "buildModel(DoubleIG)\n",
    "resultfile_name = string(\"DoubleIG_base\", \".csv\")\n",
    "simulate(DoubleIG,resultfile = resultfile_name,\n",
    "                simflags = \"-override=outputFormat=csv\")\n",
    "resultfile = joinpath(getWorkDirectory(DoubleIG), resultfile_name)\n",
    "df = DataFrame(CSV.File(resultfile));"
   ]
  },
  {
   "cell_type": "code",
   "execution_count": null,
   "id": "e73daa93-b33e-43fa-9113-ff992182e759",
   "metadata": {},
   "outputs": [],
   "source": [
    "plotlyjs()\n",
    "p2 = plot(df[!, \"time\"], [df[!, \"inertialGrid1.reducedOrderSFR.deltaFrequency\"] df[!, \"inertialGrid2.reducedOrderSFR.deltaFrequency\"]], label=[\"deltaF_IG1\" \"deltaF_IG2\"])\n",
    "plot!(p2, legend=:bottomright, titlefontsize=12, labelfontsize=10)\n",
    "title!(p2, \"Frequency variations in the two inertial grids\")\n",
    "xlabel!(p2, \"Time (s)\")\n",
    "ylabel!(p2, \"deltaFrequency (Hz)\")  "
   ]
  },
  {
   "cell_type": "code",
   "execution_count": null,
   "id": "f73312ae-9065-40f9-95c3-fb3175309b75",
   "metadata": {},
   "outputs": [],
   "source": [
    "plotlyjs()\n",
    "p = plot(df[!, \"time\"], df[!, \"deltaFrequency\"], label=string(\"deltaF\"))\n",
    "plot!(p, legend=:bottomright, titlefontsize=12, labelfontsize=10)\n",
    "title!(p, \"Frequency difference between the two inertial grids\")\n",
    "xlabel!(p, \"Time (s)\")\n",
    "ylabel!(p, \"deltaFrequency (Hz)\")"
   ]
  },
  {
   "cell_type": "markdown",
   "id": "fb85783b-ed62-40c9-a46f-ef63bb5942e3",
   "metadata": {},
   "source": [
    "## Modification of the inertial in both grids"
   ]
  },
  {
   "cell_type": "code",
   "execution_count": null,
   "id": "dea536e8-2c3e-4ffb-9a73-856dccdaaaf7",
   "metadata": {},
   "outputs": [],
   "source": [
    "setParameters(DoubleIG, [\"inertialGrid1.H = \" * \"4\", \"inertialGrid2.H = \" * \"4\"])\n",
    "buildModel(DoubleIG)\n",
    "resultfile_name = string(\"DoubleIG_H\", \".csv\")\n",
    "simulate(DoubleIG,resultfile = resultfile_name,\n",
    "                simflags = \"-override=outputFormat=csv\")\n",
    "resultfile = joinpath(getWorkDirectory(DoubleIG), resultfile_name)\n",
    "df = DataFrame(CSV.File(resultfile));"
   ]
  },
  {
   "cell_type": "code",
   "execution_count": null,
   "id": "c8ef3114-6cbc-4c83-959e-87cf50e60143",
   "metadata": {},
   "outputs": [],
   "source": [
    "plotlyjs()\n",
    "p2 = plot(df[!, \"time\"], [df[!, \"inertialGrid1.reducedOrderSFR.deltaFrequency\"] df[!, \"inertialGrid2.reducedOrderSFR.deltaFrequency\"]], label=[\"deltaF_IG1\" \"deltaF_IG2\"])\n",
    "plot!(p2, legend=:bottomright, titlefontsize=12, labelfontsize=10)\n",
    "title!(p2, \"Frequency variations in the two inertial grids\")\n",
    "xlabel!(p2, \"Time (s)\")\n",
    "ylabel!(p2, \"deltaFrequency (Hz)\")  "
   ]
  },
  {
   "cell_type": "code",
   "execution_count": null,
   "id": "674f8ed1-f4a6-453f-b34d-7164d714df49",
   "metadata": {},
   "outputs": [],
   "source": [
    "plotlyjs()\n",
    "p = plot(df[!, \"time\"], df[!, \"deltaFrequency\"], label=string(\"deltaF\"))\n",
    "plot!(p, legend=:bottomright, titlefontsize=12, labelfontsize=10)\n",
    "title!(p, \"Frequency difference between the two inertial grids\")\n",
    "xlabel!(p, \"Time (s)\")\n",
    "ylabel!(p, \"deltaFrequency (Hz)\")"
   ]
  },
  {
   "cell_type": "markdown",
   "id": "ddf13870-1e73-4ee0-bd94-8cd7753ee3ee",
   "metadata": {},
   "source": [
    "## Modification of the length of the lines and the variation of Pe"
   ]
  },
  {
   "cell_type": "code",
   "execution_count": null,
   "id": "b5a8bdde-278b-4186-8613-bff2934fe4c9",
   "metadata": {},
   "outputs": [],
   "source": [
    "## In case of a larger variation compared with the initial case, initial values should be modified to ease the LF convergence\n",
    "\n",
    "setParameters(StaticCase, [\"L1 = \" * \"150\", \"L2 = \" * \"150\"])\n",
    "buildModel(StaticCase)\n",
    "simulate(StaticCase)\n",
    "(U1, U2, U3, UPhase1, UPhase2, UPhase3, P1, Q1) = getContinuous(StaticCase, [\"busIG1.UPu\", \"busIG2.UPu\", \"busL.UPu\", \"busIG1.UPhase\", \"busIG2.UPhase\", \"busL.UPhase\", \"line1.P1Pu\", \"line1.Q1Pu\"])\n",
    "\n",
    "setParameters(DoubleIG, [\"inertialGrid1.H = \" * \"2.6\", \"inertialGrid2.H = \" * \"2.6\"])\n",
    "setParameters(DoubleIG, [\"L1 = \" * \"150\", \"L2 = \" * \"150\", \"deltaPPu = \" * \"0.02\"])\n",
    "setParameters(DoubleIG, [\"inertialGrid1.U0Pu = \" * string(U1), \"inertialGrid2.U0Pu = \" * string(U2), \"load.u0Pu.re = \" * string(U3*cos(UPhase3)), \"inertialGrid1.UPhase0 = \" * string(UPhase1), \"inertialGrid2.UPhase0 = \" * string(UPhase2), \"load.u0Pu.im = \" * string(U3*sin(UPhase3)), \"inertialGrid1.P0Pu = \" * string(P1), \"inertialGrid1.Q0Pu = \" * string(Q1)])\n",
    "resultfile_name = string(\"DoubleIG_modified\", \".csv\")\n",
    "simulate(DoubleIG,resultfile = resultfile_name,\n",
    "                simflags = \"-override=outputFormat=csv\")\n",
    "resultfile = joinpath(getWorkDirectory(DoubleIG), resultfile_name)\n",
    "df = DataFrame(CSV.File(resultfile));"
   ]
  },
  {
   "cell_type": "code",
   "execution_count": null,
   "id": "96bb6599-c2be-4445-8602-f8408e32113c",
   "metadata": {},
   "outputs": [],
   "source": [
    "plotlyjs()\n",
    "p2 = plot(df[!, \"time\"], [df[!, \"inertialGrid1.reducedOrderSFR.deltaFrequency\"] df[!, \"inertialGrid2.reducedOrderSFR.deltaFrequency\"]], label=[\"deltaF_IG1\" \"deltaF_IG2\"])\n",
    "plot!(p2, legend=:bottomright, titlefontsize=12, labelfontsize=10)\n",
    "title!(p2, \"Frequency variations in the two inertial grids\")\n",
    "xlabel!(p2, \"Time (s)\")\n",
    "ylabel!(p2, \"deltaFrequency (Hz)\")  "
   ]
  },
  {
   "cell_type": "code",
   "execution_count": null,
   "id": "2f59e944-fcf2-43ed-90d6-4c3f7fa1f8ca",
   "metadata": {},
   "outputs": [],
   "source": [
    "plotlyjs()\n",
    "p = plot(df[!, \"time\"], df[!, \"deltaFrequency\"], label=string(\"deltaF\"))\n",
    "plot!(p, legend=:bottomright, titlefontsize=12, labelfontsize=10)\n",
    "title!(p, \"Frequency difference between the two inertial grids\")\n",
    "xlabel!(p, \"Time (s)\")\n",
    "ylabel!(p, \"deltaFrequency (Hz)\")"
   ]
  }
 ],
 "metadata": {
  "kernelspec": {
   "display_name": "Julia 1.10.3",
   "language": "julia",
   "name": "julia-1.10"
  },
  "language_info": {
   "file_extension": ".jl",
   "mimetype": "application/julia",
   "name": "julia",
   "version": "1.10.3"
  }
 },
 "nbformat": 4,
 "nbformat_minor": 5
}
