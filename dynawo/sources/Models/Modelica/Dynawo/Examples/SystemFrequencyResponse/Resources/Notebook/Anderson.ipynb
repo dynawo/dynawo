{
 "cells": [
  {
   "cell_type": "markdown",
   "id": "03c5e0eb-f0aa-4e6a-8bc0-7969e4369f33",
   "metadata": {},
   "source": [
    "## Indicate Dynawo and Modelica package.mo"
   ]
  },
  {
   "cell_type": "code",
   "execution_count": null,
   "id": "a5227eba-043d-4ad3-b884-76e109449876",
   "metadata": {},
   "outputs": [],
   "source": [
    "#=  The env variable DYNAWO_PATH must has be set beforehands to the root of the dynawo code.\n",
    "    In case you are only working with the library distribution, the second part of the expression must be slightly modified.\n",
    "    Anyway the package_file should be pointing to the package.mo file of the Dynawo library you want to use\n",
    "=#\n",
    "\n",
    "Dynawo_package_file = string(ENV[\"DYNAWO_PATH\"], \"/dynawo/sources/Models/Modelica/Dynawo/package.mo\")\n",
    "Modelica_package_file = string(ENV[\"MODELICA_PATH\"], \"package.mo\")"
   ]
  },
  {
   "cell_type": "markdown",
   "id": "4ec01001-5de6-447a-a005-884c4582129a",
   "metadata": {},
   "source": [
    "## Import packages and data"
   ]
  },
  {
   "cell_type": "code",
   "execution_count": null,
   "id": "26604838-6cd0-45a7-b418-a6f8c7d038a5",
   "metadata": {},
   "outputs": [],
   "source": [
    "using OMJulia\n",
    "using Plots, DataFrames, CSV"
   ]
  },
  {
   "cell_type": "code",
   "execution_count": null,
   "id": "ce6edc57-ca0f-4758-850c-1bc522aa1eb7",
   "metadata": {},
   "outputs": [],
   "source": [
    "SFR_Anderson = OMJulia.OMCSession()\n",
    "ModelicaSystem(SFR_Anderson,Dynawo_package_file,\"Dynawo.Examples.SystemFrequencyResponse.ReducedOrderSFR\",[Modelica_package_file])\n"
   ]
  },
  {
   "cell_type": "markdown",
   "id": "9e69acf6-e622-4ba7-8752-e4a19123448a",
   "metadata": {},
   "source": [
    "## Initial example (Figure 6 from Anderson's paper)"
   ]
  },
  {
   "cell_type": "code",
   "execution_count": null,
   "id": "d7a512d0-d377-4db3-99d5-9c958c197ee3",
   "metadata": {},
   "outputs": [],
   "source": [
    "deltaPe = [0.05;0.1;0.15;0.2;0.25;0.3]\n",
    "plotlyjs()\n",
    "p = plot()\n",
    "\n",
    "for i in deltaPe\n",
    "    setParameters(SFR_Anderson, \"Pe.height = \" * string(i))\n",
    "    buildModel(SFR_Anderson)\n",
    "    resultfile_name = string(\"SFR_Anderson_\", string(i), \".csv\")\n",
    "    simulate(SFR_Anderson,resultfile = resultfile_name,\n",
    "                simflags = \"-override=outputFormat=csv,stopTime=20\")\n",
    "    resultfile = joinpath(getWorkDirectory(SFR_Anderson), resultfile_name)\n",
    "    df = DataFrame(CSV.File(resultfile));\n",
    "    plot!(p, df[!, \"time\"], df[!, \"reducedOrderSFR.deltaFrequency\"], label=string(\"Pe = \", i))\n",
    "end\n",
    "\n",
    "plot!(p, legend=:bottomright, titlefontsize=12, labelfontsize=10)\n",
    "title!(p, \"Frequency response for varying values of Pd\")\n",
    "xlabel!(p, \"Time (s)\")\n",
    "ylabel!(p, \"Frequency (Hz)\")"
   ]
  },
  {
   "cell_type": "markdown",
   "id": "2e1740f8-4676-4b95-9a71-aaee665cc25c",
   "metadata": {},
   "source": [
    "## The effect of governor droop (Figure 7)"
   ]
  },
  {
   "cell_type": "code",
   "execution_count": null,
   "id": "fef33601-629c-4221-929a-8c50e0a70c50",
   "metadata": {},
   "outputs": [],
   "source": [
    "R = [0.05;0.06;0.07;0.08;0.09;0.1]\n",
    "plotlyjs()\n",
    "p = plot()\n",
    "setParameters(SFR_Anderson, \"Pe.height = \" * string(0.2))\n",
    "\n",
    "for i in R\n",
    "    setParameters(SFR_Anderson, \"reducedOrderSFR.R = \" * string(i))\n",
    "    buildModel(SFR_Anderson)\n",
    "    resultfile_name = string(\"SFR_Anderson_\", string(i), \".csv\")\n",
    "    simulate(SFR_Anderson,resultfile = resultfile_name,\n",
    "                simflags = \"-override=outputFormat=csv,stopTime=20\")\n",
    "    resultfile = joinpath(getWorkDirectory(SFR_Anderson), resultfile_name)\n",
    "    df = DataFrame(CSV.File(resultfile));\n",
    "    plot!(p, df[!, \"time\"], df[!, \"reducedOrderSFR.deltaFrequency\"], label=string(\"R = \", i))\n",
    "end\n",
    "\n",
    "plot!(p, legend=:bottomright, titlefontsize=12, labelfontsize=10)\n",
    "title!(p, \"Frequency response for varying values of R\")\n",
    "xlabel!(p, \"Time (s)\")\n",
    "ylabel!(p, \"Frequency (Hz)\")"
   ]
  },
  {
   "cell_type": "markdown",
   "id": "bf3cf8f4-95c6-4dd6-ab74-82f9e4aedd6c",
   "metadata": {},
   "source": [
    "## The effect of inertia (Figure 9)"
   ]
  },
  {
   "cell_type": "code",
   "execution_count": null,
   "id": "4ca2475a-b69a-4f61-afd3-e218fa5b9f50",
   "metadata": {},
   "outputs": [],
   "source": [
    "H = [3;3.5;4;4.5;5]\n",
    "plotlyjs()\n",
    "p = plot()\n",
    "setParameters(SFR_Anderson, \"reducedOrderSFR.R = \" * string(0.05))\n",
    "\n",
    "for i in H\n",
    "    setParameters(SFR_Anderson, \"reducedOrderSFR.H = \" * string(i))\n",
    "    buildModel(SFR_Anderson)\n",
    "    resultfile_name = string(\"SFR_Anderson_\", string(i), \".csv\")\n",
    "    simulate(SFR_Anderson,resultfile = resultfile_name,\n",
    "                simflags = \"-override=outputFormat=csv,stopTime=20\")\n",
    "    resultfile = joinpath(getWorkDirectory(SFR_Anderson), resultfile_name)\n",
    "    df = DataFrame(CSV.File(resultfile));\n",
    "    plot!(p, df[!, \"time\"], df[!, \"reducedOrderSFR.deltaFrequency\"], label=string(\"H = \", i))\n",
    "end\n",
    "\n",
    "plot!(p, legend=:bottomright, titlefontsize=12, labelfontsize=10)\n",
    "title!(p, \"Frequency response for varying values of H\")\n",
    "xlabel!(p, \"Time (s)\")\n",
    "ylabel!(p, \"Frequency (Hz)\")"
   ]
  },
  {
   "cell_type": "markdown",
   "id": "77f80b35-fd95-41b8-884e-f14b3c05af3d",
   "metadata": {},
   "source": [
    "## The effect of Reheat Time Constant (Figure 10)"
   ]
  },
  {
   "cell_type": "code",
   "execution_count": null,
   "id": "828b8c82-f9a7-4035-a91f-fad0348969f7",
   "metadata": {},
   "outputs": [],
   "source": [
    "TR = [6;7;8;9;10]\n",
    "plotlyjs()\n",
    "p = plot()\n",
    "setParameters(SFR_Anderson, \"reducedOrderSFR.H = \" * string(4))\n",
    "\n",
    "for i in TR\n",
    "    setParameters(SFR_Anderson, \"reducedOrderSFR.Tr = \" * string(i))\n",
    "    buildModel(SFR_Anderson)\n",
    "    resultfile_name = string(\"SFR_Anderson_\", string(i), \".csv\")\n",
    "    simulate(SFR_Anderson,resultfile = resultfile_name,\n",
    "                simflags = \"-override=outputFormat=csv,stopTime=20\")\n",
    "    resultfile = joinpath(getWorkDirectory(SFR_Anderson), resultfile_name)\n",
    "    df = DataFrame(CSV.File(resultfile));\n",
    "    plot!(p, df[!, \"time\"], df[!, \"reducedOrderSFR.deltaFrequency\"], label=string(\"TR = \", i))\n",
    "end\n",
    "\n",
    "plot!(p, legend=:bottomright, titlefontsize=12, labelfontsize=10)\n",
    "title!(p, \"Frequency response for varying values of TR\")\n",
    "xlabel!(p, \"Time (s)\")\n",
    "ylabel!(p, \"Frequency (Hz)\")"
   ]
  },
  {
   "cell_type": "markdown",
   "id": "defd2cc5-a5f1-4551-a844-ef751adcc8a1",
   "metadata": {},
   "source": [
    "## The effect of High Pressure Fraction FH (Figure 11)"
   ]
  },
  {
   "cell_type": "code",
   "execution_count": null,
   "id": "8a52278c-ee1e-4df1-a13a-4626ccee6e6e",
   "metadata": {},
   "outputs": [],
   "source": [
    "FH = [0.2;0.3;0.4;0.5;0.6]\n",
    "plotlyjs()\n",
    "p = plot()\n",
    "setParameters(SFR_Anderson, \"reducedOrderSFR.Tr = \" * string(8))\n",
    "\n",
    "for i in FH\n",
    "    setParameters(SFR_Anderson, \"reducedOrderSFR.Fh = \" * string(i))\n",
    "    buildModel(SFR_Anderson)\n",
    "    resultfile_name = string(\"SFR_Anderson_\", string(i), \".csv\")\n",
    "    simulate(SFR_Anderson,resultfile = resultfile_name,\n",
    "                simflags = \"-override=outputFormat=csv,stopTime=20\")\n",
    "    resultfile = joinpath(getWorkDirectory(SFR_Anderson), resultfile_name)\n",
    "    df = DataFrame(CSV.File(resultfile));\n",
    "    plot!(p, df[!, \"time\"], df[!, \"reducedOrderSFR.deltaFrequency\"], label=string(\"FH = \", i))\n",
    "end\n",
    "\n",
    "plot!(p, legend=:bottomright, titlefontsize=12, labelfontsize=10)\n",
    "title!(p, \"Frequency response for varying values of FH\")\n",
    "xlabel!(p, \"Time (s)\")\n",
    "ylabel!(p, \"Frequency (Hz)\")"
   ]
  },
  {
   "cell_type": "markdown",
   "id": "c74ec164-fa67-410f-b17c-abb1636b5aef",
   "metadata": {},
   "source": [
    "## The effect of the damping constant (Figure 12)"
   ]
  },
  {
   "cell_type": "code",
   "execution_count": null,
   "id": "ac670365-3ce0-495a-8ed0-f878b1569165",
   "metadata": {},
   "outputs": [],
   "source": [
    "D = [0; 0.5; 1; 1.5; 2]\n",
    "plotlyjs()\n",
    "p = plot()\n",
    "setParameters(SFR_Anderson, \"reducedOrderSFR.Fh = \" * string(0.3))\n",
    "\n",
    "for i in D\n",
    "    setParameters(SFR_Anderson, \"reducedOrderSFR.DPu = \" * string(i))\n",
    "    buildModel(SFR_Anderson)\n",
    "    resultfile_name = string(\"SFR_Anderson_\", string(i), \".csv\")\n",
    "    simulate(SFR_Anderson,resultfile = resultfile_name,\n",
    "                simflags = \"-override=outputFormat=csv,stopTime=20\")\n",
    "    resultfile = joinpath(getWorkDirectory(SFR_Anderson), resultfile_name)\n",
    "    df = DataFrame(CSV.File(resultfile));\n",
    "    plot!(p, df[!, \"time\"], df[!, \"reducedOrderSFR.deltaFrequency\"], label=string(\"D = \", i))\n",
    "end\n",
    "\n",
    "plot!(p, legend=:bottomright, titlefontsize=12, labelfontsize=10)\n",
    "title!(p, \"Frequency response for varying values of D\")\n",
    "xlabel!(p, \"Time (s)\")\n",
    "ylabel!(p, \"Frequency (Hz)\")"
   ]
  }
 ],
 "metadata": {
  "kernelspec": {
   "display_name": "Julia 1.10.3",
   "language": "julia",
   "name": "julia-1.10"
  },
  "language_info": {
   "file_extension": ".jl",
   "mimetype": "application/julia",
   "name": "julia",
   "version": "1.10.3"
  }
 },
 "nbformat": 4,
 "nbformat_minor": 5
}
